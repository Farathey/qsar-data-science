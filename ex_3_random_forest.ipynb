{
  "nbformat": 4,
  "nbformat_minor": 0,
  "metadata": {
    "colab": {
      "name": "Untitled0.ipynb",
      "provenance": [],
      "collapsed_sections": []
    },
    "kernelspec": {
      "name": "python3",
      "display_name": "Python 3"
    },
    "language_info": {
      "name": "python"
    }
  },
  "cells": [
    {
      "cell_type": "code",
      "metadata": {
        "id": "lAX2UVDjq6lh"
      },
      "source": [
        "import pandas as pd\n",
        "from sklearn.tree import DecisionTreeClassifier\n",
        "import matplotlib.pyplot as plt\n",
        "import matplotlib.image as pltimg\n",
        "from sklearn.model_selection import train_test_split\n",
        "import numpy as np\n",
        "from sklearn.metrics import accuracy_score, plot_confusion_matrix\n",
        "from sklearn.tree import export_graphviz\n",
        "from sklearn.ensemble import RandomForestClassifier\n",
        "from six import StringIO\n",
        "from IPython.display import Image\n",
        "import pydotplus"
      ],
      "execution_count": 2,
      "outputs": []
    },
    {
      "cell_type": "code",
      "metadata": {
        "colab": {
          "base_uri": "https://localhost:8080/",
          "height": 282
        },
        "id": "cuJz2im0r5TA",
        "outputId": "76c7782d-5300-4a9e-dd40-c4721ef3314b"
      },
      "source": [
        "df = pd.read_csv('stud_cyto.csv', index_col=0)\n",
        "\n",
        "X_train, X_test, y_train, y_test = train_test_split(\n",
        "    df.iloc[:, :2], df.iloc[:, 2], test_size=0.25, random_state=42)\n",
        "\n",
        "i_list = []\n",
        "test_list = []\n",
        "train_list = []\n",
        "for i in range(1, 10):\n",
        "    clf = RandomForestClassifier(n_estimators=i, random_state=42)\n",
        "    clf = clf.fit(X_train, y_train)\n",
        "    test_score = clf.score(X_test, y_test)\n",
        "    train_score = clf.score(X_train, y_train)\n",
        "    i_list.append(i)\n",
        "    test_list.append(test_score)\n",
        "    train_list.append(train_score)\n",
        "plt.plot(i_list, train_list)\n",
        "plt.plot(i_list, test_list)"
      ],
      "execution_count": 3,
      "outputs": [
        {
          "output_type": "execute_result",
          "data": {
            "text/plain": [
              "[<matplotlib.lines.Line2D at 0x7f9c27612e10>]"
            ]
          },
          "metadata": {},
          "execution_count": 3
        },
        {
          "output_type": "display_data",
          "data": {
            "text/plain": [
              "<Figure size 432x288 with 1 Axes>"
            ],
            "image/png": "[encoded data removed]"
          },
          "metadata": {
            "needs_background": "light"
          }
        }
      ]
    },
    {
      "cell_type": "code",
      "metadata": {
        "id": "1MVaGsejvWr1"
      },
      "source": [
        "clf = RandomForestClassifier(n_estimators=3, random_state=42)\n",
        "clf = clf.fit(X_train, y_train)\n",
        "\n",
        "feature_names = df.iloc[:, :2].columns\n",
        "class_names = ['non-cyt', 'cyt']"
      ],
      "execution_count": 4,
      "outputs": []
    },
    {
      "cell_type": "code",
      "metadata": {
        "colab": {
          "base_uri": "https://localhost:8080/",
          "height": 282
        },
        "id": "mZDlYpwzwJzn",
        "outputId": "ce2f8bae-912a-4f69-8e23-cd65c68d5ad4"
      },
      "source": [
        "df = pd.read_csv('stud_cyto2.csv', index_col=0)\n",
        "\n",
        "X_train, X_test, y_train, y_test = train_test_split(\n",
        "    df.iloc[:, :3], df.iloc[:, 3], test_size=0.25, random_state=42)\n",
        "\n",
        "i_list = []\n",
        "test_list = []\n",
        "train_list = []\n",
        "for i in range(1, 26):\n",
        "    clf = RandomForestClassifier(n_estimators=i, random_state=42)\n",
        "    clf = clf.fit(X_train, y_train)\n",
        "    test_score = clf.score(X_test, y_test)\n",
        "    train_score = clf.score(X_train, y_train)\n",
        "    i_list.append(i)\n",
        "    test_list.append(test_score)\n",
        "    train_list.append(train_score)\n",
        "plt.plot(i_list, train_list)\n",
        "plt.plot(i_list, test_list)"
      ],
      "execution_count": 5,
      "outputs": [
        {
          "output_type": "execute_result",
          "data": {
            "text/plain": [
              "[<matplotlib.lines.Line2D at 0x7f9c270a3150>]"
            ]
          },
          "metadata": {},
          "execution_count": 5
        },
        {
          "output_type": "display_data",
          "data": {
            "text/plain": [
              "<Figure size 432x288 with 1 Axes>"
            ],
            "image/png": "[encoded data removed]"
          },
          "metadata": {
            "needs_background": "light"
          }
        }
      ]
    },
    {
      "cell_type": "code",
      "metadata": {
        "id": "8ZaLFDZ5wp2r"
      },
      "source": [
        "clf = RandomForestClassifier(n_estimators=18, random_state=42)\n",
        "clf = clf.fit(X_train, y_train)\n",
        "\n",
        "feature_names = df.iloc[:, :3].columns\n",
        "class_names = ['non-cyt', 'cyt']\n"
      ],
      "execution_count": 6,
      "outputs": []
    },
    {
      "cell_type": "code",
      "metadata": {
        "colab": {
          "base_uri": "https://localhost:8080/",
          "height": 282
        },
        "id": "9vjY4XmrwWvW",
        "outputId": "61fddd43-d324-4edc-d84f-fd3e96356d40"
      },
      "source": [
        "df = pd.read_csv('stud_cyto3.csv', index_col=0)\n",
        "\n",
        "X_train, X_test, y_train, y_test = train_test_split(\n",
        "    df.iloc[:, :4], df.iloc[:, 4], test_size=0.25, random_state=42)\n",
        "\n",
        "i_list = []\n",
        "test_list = []\n",
        "train_list = []\n",
        "for i in range(1, 10):\n",
        "    clf = RandomForestClassifier(n_estimators=i, random_state=42)\n",
        "    clf = clf.fit(X_train, y_train)\n",
        "    test_score = clf.score(X_test, y_test)\n",
        "    train_score = clf.score(X_train, y_train)\n",
        "    i_list.append(i)\n",
        "    test_list.append(test_score)\n",
        "    train_list.append(train_score)\n",
        "plt.plot(i_list, train_list)\n",
        "plt.plot(i_list, test_list)"
      ],
      "execution_count": 7,
      "outputs": [
        {
          "output_type": "execute_result",
          "data": {
            "text/plain": [
              "[<matplotlib.lines.Line2D at 0x7f9c2708ed90>]"
            ]
          },
          "metadata": {},
          "execution_count": 7
        },
        {
          "output_type": "display_data",
          "data": {
            "text/plain": [
              "<Figure size 432x288 with 1 Axes>"
            ],
            "image/png": "[encoded data removed]"
          },
          "metadata": {
            "needs_background": "light"
          }
        }
      ]
    },
    {
      "cell_type": "code",
      "metadata": {
        "id": "-TETnDyxwwy7",
        "colab": {
          "base_uri": "https://localhost:8080/"
        },
        "outputId": "0ca4f85c-87d1-4b9f-f8c2-fb47c8cd1014"
      },
      "source": [
        "clf = RandomForestClassifier(n_estimators=7, random_state=42)\n",
        "clf = clf.fit(X_train, y_train)\n",
        "\n",
        "feature_names = df.iloc[:, :2].columns\n",
        "class_names = ['non-cyt', 'cyt']\n",
        "\n",
        "print(\"Najlepiej wypada model dla pliku stud_cyt3\")"
      ],
      "execution_count": 8,
      "outputs": [
        {
          "output_type": "stream",
          "name": "stdout",
          "text": [
            "Najlepiej wypada model dla pliku stud_cyt3\n"
          ]
        }
      ]
    },
    {
      "cell_type": "code",
      "metadata": {
        "id": "qXobMD6g1PG_"
      },
      "source": [
        "from sklearn.linear_model import LinearRegression\n",
        "from sklearn.model_selection import train_test_split\n",
        "from sklearn.metrics import r2_score, mean_squared_error\n",
        "from sklearn.preprocessing import StandardScaler\n",
        "from sklearn.preprocessing import Normalizer\n",
        "from sklearn.ensemble import RandomForestRegressor"
      ],
      "execution_count": 9,
      "outputs": []
    },
    {
      "cell_type": "code",
      "metadata": {
        "id": "gibNkvnWzcW8",
        "colab": {
          "base_uri": "https://localhost:8080/"
        },
        "outputId": "5d2314eb-d9e4-4f10-c7ac-74a2f50cb0d1"
      },
      "source": [
        "df = pd.read_csv('solubility_stud.csv', index_col=0)\n",
        "\n",
        "Y = df['measured log(solubility:mol/L)']\n",
        "X1 = df[['MolLogP', 'MolWt', 'NumRotatableBonds']]\n",
        "\n",
        "Y.shape\n",
        "X1.shape\n",
        "\n",
        "X_train, X_test, y_train, y_test = train_test_split(X1, Y, test_size=0.2, random_state=42)\n",
        "\n",
        "normalizer = Normalizer()\n",
        "X_train = normalizer.fit_transform(X_train)\n",
        "X_test = normalizer.transform(X_test)\n",
        "model = LinearRegression()\n",
        "model.fit(X_train, y_train)"
      ],
      "execution_count": 10,
      "outputs": [
        {
          "output_type": "execute_result",
          "data": {
            "text/plain": [
              "LinearRegression()"
            ]
          },
          "metadata": {},
          "execution_count": 10
        }
      ]
    },
    {
      "cell_type": "code",
      "metadata": {
        "colab": {
          "base_uri": "https://localhost:8080/"
        },
        "id": "dWQwCK2P1U99",
        "outputId": "8c74a4ff-0fb6-4dc9-afea-079927ca09f7"
      },
      "source": [
        "model = RandomForestRegressor()\n",
        "model.fit(X_train, y_train)\n",
        "\n",
        "# print(f'y = {model.coef_[0]} x1 + {model.coef_[1]} x2 + {model.intercept_}')\n",
        "y_train_pred = model.predict(X_train)\n",
        "y_pred = model.predict(X_test)\n",
        "print(f'Mean Squared Error: {mean_squared_error(y_test, y_pred)}')\n",
        "print(f'Root Mean Squared Error: { np.sqrt(mean_squared_error(y_test, y_pred))}')\n",
        "print(f'R2(train): {r2_score(y_train, y_train_pred)}')\n",
        "print(f'R2(test): {r2_score(y_test, y_pred)}')\n",
        "\n",
        "# i_list = []\n",
        "# test_list = []\n",
        "# train_list = []\n",
        "# for i in range(1, 10):\n",
        "#     clf = RandomForestClassifier(n_estimators=i, random_state=42)\n",
        "#     clf = clf.fit(X_train, y_train)\n",
        "#     test_score = clf.score(X_test, y_test)\n",
        "#     train_score = clf.score(X_train, y_train)\n",
        "#     i_list.append(i)\n",
        "#     test_list.append(test_score)\n",
        "#     train_list.append(train_score)\n",
        "# plt.plot(i_list, train_list)\n",
        "# plt.plot(i_list, test_list)\n"
      ],
      "execution_count": 11,
      "outputs": [
        {
          "output_type": "stream",
          "name": "stdout",
          "text": [
            "Mean Squared Error: 2.433747832166275\n",
            "Root Mean Squared Error: 1.5600473813850253\n",
            "R2(train): 0.9135848767549418\n",
            "R2(test): 0.4411013755520432\n"
          ]
        }
      ]
    },
    {
      "cell_type": "code",
      "metadata": {
        "id": "QaaVIiw41Zx3"
      },
      "source": [
        ""
      ],
      "execution_count": 11,
      "outputs": []
    }
  ]
}